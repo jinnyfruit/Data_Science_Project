{
  "nbformat": 4,
  "nbformat_minor": 0,
  "metadata": {
    "colab": {
      "name": "DS_termP_KNNtrial.ipynb",
      "provenance": [],
      "collapsed_sections": [],
      "authorship_tag": "ABX9TyNv8DLjVzNnv9sMweY+tmeZ",
      "include_colab_link": true
    },
    "kernelspec": {
      "name": "python3",
      "display_name": "Python 3"
    },
    "language_info": {
      "name": "python"
    }
  },
  "cells": [
    {
      "cell_type": "markdown",
      "metadata": {
        "id": "view-in-github",
        "colab_type": "text"
      },
      "source": [
        "<a href=\"https://colab.research.google.com/github/jinnyfruit/Data_Science_Project/blob/main/KNN_kfold.ipynb\" target=\"_parent\"><img src=\"https://colab.research.google.com/assets/colab-badge.svg\" alt=\"Open In Colab\"/></a>"
      ]
    },
    {
      "cell_type": "code",
      "execution_count": 17,
      "metadata": {
        "colab": {
          "base_uri": "https://localhost:8080/"
        },
        "id": "yWVSVvfq0oV7",
        "outputId": "c876d56e-dc23-4c32-cacf-39b90f84730b"
      },
      "outputs": [
        {
          "output_type": "stream",
          "name": "stdout",
          "text": [
            "best score of 1-neighbor with k-fold  0.6333333333333333\n",
            "best score of 2-neighbor with k-fold  0.5637583892617449\n",
            "best score of 3-neighbor with k-fold  0.5637583892617449\n",
            "best score of 4-neighbor with k-fold  0.5637583892617449\n",
            "best score of 5-neighbor with k-fold  0.6333333333333333\n",
            "best score of 6-neighbor with k-fold  0.5637583892617449\n",
            "best score of 7-neighbor with k-fold  0.5637583892617449\n",
            "best score of 8-neighbor with k-fold  0.6333333333333333\n",
            "best score of 9-neighbor with k-fold  0.6\n",
            "best n-neighbor: 8\n",
            "score of knn with hypertuning:  0.6333333333333333\n"
          ]
        }
      ],
      "source": [
        "import pandas as pd\n",
        "import numpy as np\n",
        "from sklearn.neighbors import KNeighborsClassifier\n",
        "from sklearn.model_selection import KFold\n",
        "from sklearn.model_selection import train_test_split\n",
        "from matplotlib import pyplot as plt\n",
        "\n",
        "df2=pd.read_csv('/content/covid_students_survay.csv')\n",
        "df2=df2[['Webcam status during class','Mic status during class','Are you able to understand the concepts through online classes?','Are you able to understand the concepts through online classes?']]\n",
        "df2.replace({'Yes':-10,'No':10},inplace=True)\n",
        "df2.dropna(inplace=True)\n",
        "\n",
        "#replace string with 'Off' in column 'Webcam'and 'Mic'\n",
        "offIdx=df2[df2['Webcam status during class'].str.contains('Off')].index\n",
        "df2['Webcam status during class']=100\n",
        "df2.loc[offIdx,'Webcam status during class']=-100\n",
        "offIdx=df2[df2['Mic status during class'].str.contains('Off')].index\n",
        "df2['Mic status during class']=10\n",
        "df2.loc[offIdx,'Mic status during class']=-10\n",
        "\n",
        "#split target and features\n",
        "X=df2.iloc[:,[0,1]]\n",
        "y=df2.iloc[:,2]\n",
        "\n",
        "#kfold\n",
        "def eval_kfold(X,y,n):\n",
        "  kfold=KFold()\n",
        "  scoreList=[]\n",
        "  for train, test in kfold.split(df2):\n",
        "    X_train,X_test=X.iloc[train,:],X.iloc[test,:]\n",
        "    y_train,y_test=y[train],y[test]\n",
        "    from sklearn.neighbors import KNeighborsClassifier\n",
        "    knn=KNeighborsClassifier(n_neighbors=n)\n",
        "    knn.fit(X_train,y_train)\n",
        "    knn.predict(X_test)\n",
        "    scoreList.append(knn.score(X_test,y_test))\n",
        "    #print('score of knn with Kfold: ',knn.score(X_test,y_test))\n",
        "  return scoreList\n",
        "\n",
        "#to improve the model, use 5-fold cross validation\n",
        "#from sklearn.model_selection import cross_val_score\n",
        "#cv_scores=cross_val_score(knn,X,y,cv=5)\n",
        "#print(cv_scores)\n",
        "\n",
        "#find best n-neighbor\n",
        "totalScoreList=[]\n",
        "for i in range(1,10):\n",
        "  s=max(eval_kfold(X,y,i))\n",
        "  totalScoreList.append(s)\n",
        "  print(\"best score of \"+str(i)+\"-neighbor with k-fold \",s)\n",
        "\n",
        "m_idx=0\n",
        "m_score=0\n",
        "for i in range(1,10):\n",
        "  if(totalScoreList[i-1]>=m_score):\n",
        "    m_score=totalScoreList[i-1]\n",
        "    m_idx=i\n",
        "print('best n-neighbor:',m_idx)\n",
        "print('score of knn with hypertuning: ',m_score)\n"
      ]
    },
    {
      "cell_type": "code",
      "source": [
        ""
      ],
      "metadata": {
        "id": "NumL3jvv1tjo"
      },
      "execution_count": null,
      "outputs": []
    }
  ]
}