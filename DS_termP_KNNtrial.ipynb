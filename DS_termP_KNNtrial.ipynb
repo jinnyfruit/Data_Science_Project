{
  "nbformat": 4,
  "nbformat_minor": 0,
  "metadata": {
    "colab": {
      "name": "DS_termP_KNNtrial.ipynb",
      "provenance": [],
      "collapsed_sections": [],
      "authorship_tag": "ABX9TyNDYuU6ek9Qi+TYw+Kzox0M",
      "include_colab_link": true
    },
    "kernelspec": {
      "name": "python3",
      "display_name": "Python 3"
    },
    "language_info": {
      "name": "python"
    }
  },
  "cells": [
    {
      "cell_type": "markdown",
      "metadata": {
        "id": "view-in-github",
        "colab_type": "text"
      },
      "source": [
        "<a href=\"https://colab.research.google.com/github/jinnyfruit/Data_Science_Project/blob/main/DS_termP_KNNtrial.ipynb\" target=\"_parent\"><img src=\"https://colab.research.google.com/assets/colab-badge.svg\" alt=\"Open In Colab\"/></a>"
      ]
    },
    {
      "cell_type": "code",
      "execution_count": 4,
      "metadata": {
        "colab": {
          "base_uri": "https://localhost:8080/"
        },
        "id": "yWVSVvfq0oV7",
        "outputId": "9714118f-d69f-481f-9c7d-3b296083073f"
      },
      "outputs": [
        {
          "output_type": "stream",
          "name": "stdout",
          "text": [
            "score of knn without hypertuning(only k-fold):  0.56\n",
            "score of knn without hypertuning(only k-fold):  0.5637583892617449\n",
            "score of knn without hypertuning(only k-fold):  0.5637583892617449\n",
            "score of knn without hypertuning(only k-fold):  0.2080536912751678\n",
            "score of knn without hypertuning(only k-fold):  0.4899328859060403\n",
            "best parameter: {'n_neighbors': 1}\n",
            "score of knn with hypertuning:  0.5328991596638655\n"
          ]
        }
      ],
      "source": [
        "import pandas as pd\n",
        "import numpy as np\n",
        "from sklearn.neighbors import KNeighborsClassifier\n",
        "from sklearn.model_selection import KFold\n",
        "from sklearn.model_selection import train_test_split\n",
        "from matplotlib import pyplot as plt\n",
        "\n",
        "df2=pd.read_csv('/content/covid_students_survay.csv')\n",
        "df2=df2[['Webcam status during class','Mic status during class','Are you able to understand the concepts through online classes?','Are you able to understand the concepts through online classes?']]\n",
        "df2.replace({'Yes':-10,'No':10},inplace=True)\n",
        "df2.dropna(inplace=True)\n",
        "\n",
        "#replace string with 'Off' in column 'Webcam'and 'Mic'\n",
        "offIdx=df2[df2['Webcam status during class'].str.contains('Off')].index\n",
        "df2['Webcam status during class']=100\n",
        "df2.loc[offIdx,'Webcam status during class']=-100\n",
        "offIdx=df2[df2['Mic status during class'].str.contains('Off')].index\n",
        "df2['Mic status during class']=10\n",
        "df2.loc[offIdx,'Mic status during class']=-10\n",
        "\n",
        "#split target and features\n",
        "X=df2.iloc[:,[0,1]]\n",
        "y=df2.iloc[:,2]\n",
        "\n",
        "#\n",
        "kfold=KFold()\n",
        "for train, test in kfold.split(df2):\n",
        "  X_train,X_test=X.iloc[train,:],X.iloc[test,:]\n",
        "  y_train,y_test=y[train],y[test]\n",
        "  from sklearn.neighbors import KNeighborsClassifier\n",
        "  knn=KNeighborsClassifier(n_neighbors=3)\n",
        "  knn.fit(X_train,y_train)\n",
        "  knn.predict(X_test)\n",
        "  print('score of knn without hypertuning(only k-fold): ',knn.score(X_test,y_test))\n",
        "\n",
        "#to improve the model, use 5-fold cross validation\n",
        "#from sklearn.model_selection import cross_val_score\n",
        "#cv_scores=cross_val_score(knn,X,y,cv=5)\n",
        "#print(cv_scores)\n",
        "\n",
        "#hypertuning using GridSearchCV\n",
        "from sklearn.model_selection import GridSearchCV\n",
        "knn2=KNeighborsClassifier()\n",
        "param_grid={'n_neighbors':np.arange(1,25)}\n",
        "knn_gscv=GridSearchCV(knn2,param_grid,cv=5)\n",
        "knn_gscv.fit(X_train,y_train)\n",
        "y_pred=knn_gscv.predict(X_test)\n",
        "#print(y_pred)\n",
        "#plt.show()\n",
        "print('best parameter:',knn_gscv.best_params_)\n",
        "print('score of knn with hypertuning: ',knn_gscv.best_score_)\n"
      ]
    },
    {
      "cell_type": "code",
      "source": [
        ""
      ],
      "metadata": {
        "id": "NumL3jvv1tjo"
      },
      "execution_count": null,
      "outputs": []
    }
  ]
}