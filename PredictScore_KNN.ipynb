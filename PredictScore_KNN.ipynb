{
  "nbformat": 4,
  "nbformat_minor": 0,
  "metadata": {
    "colab": {
      "name": "KNN_test.ipynb",
      "provenance": [],
      "collapsed_sections": [],
      "authorship_tag": "ABX9TyOhQlp8j18Jnccbt3Kcr4eC",
      "include_colab_link": true
    },
    "kernelspec": {
      "name": "python3",
      "display_name": "Python 3"
    },
    "language_info": {
      "name": "python"
    }
  },
  "cells": [
    {
      "cell_type": "markdown",
      "metadata": {
        "id": "view-in-github",
        "colab_type": "text"
      },
      "source": [
        "<a href=\"https://colab.research.google.com/github/jinnyfruit/Data_Science_Project/blob/main/PredictScore_KNN.ipynb\" target=\"_parent\"><img src=\"https://colab.research.google.com/assets/colab-badge.svg\" alt=\"Open In Colab\"/></a>"
      ]
    },
    {
      "cell_type": "code",
      "source": [
        ""
      ],
      "metadata": {
        "id": "2agi4v3k84Uh"
      },
      "execution_count": null,
      "outputs": []
    },
    {
      "cell_type": "code",
      "execution_count": 33,
      "metadata": {
        "colab": {
          "base_uri": "https://localhost:8080/"
        },
        "id": "t51EXAxNcTwq",
        "outputId": "a1eea4eb-5080-4094-b923-abdbd4d05980"
      },
      "outputs": [
        {
          "output_type": "stream",
          "name": "stdout",
          "text": [
            "(['Age of Subject', 'Time spent on TV', 'Time spent on social media', 'Time spent on sleep', 'Time spent on fitness', 'Age of Subject', 'Time spent on sleep'], 0.3452914798206278)\n",
            "(['Time spent on fitness'], 0.25112107623318386)\n",
            "(['Time spent on self study', 'Time spent on TV', 'Time spent on social media', 'Time spent on TV', 'Time spent on self study'], 0.26905829596412556)\n",
            "(['Number of meals per day'], 0.25112107623318386)\n",
            "(['Time spent on self study', 'Time spent on TV', 'Time spent on sleep', 'Time spent on sleep'], 0.29596412556053814)\n",
            "(['Time spent on self study', 'Time spent on TV', 'Time spent on social media', 'Time spent on fitness', 'Time spent on Online Class', 'Time spent on social media'], 0.31390134529147984)\n",
            "(['Time spent on self study', 'Time spent on self study', 'Time spent on Online Class', 'Time spent on self study', 'Time spent on sleep', 'Time spent on self study', 'Age of Subject', 'Time spent on TV'], 0.32286995515695066)\n",
            "(['Time spent on TV', 'Time spent on social media', 'Time spent on Online Class', 'Number of meals per day', 'Time spent on TV'], 0.3094170403587444)\n",
            "(['Number of meals per day', 'Time spent on fitness', 'Time spent on social media', 'Time spent on sleep', 'Time spent on self study'], 0.2645739910313901)\n",
            "(['Time spent on Online Class', 'Time spent on TV', 'Number of meals per day', 'Time spent on Online Class', 'Time spent on Online Class', 'Number of meals per day'], 0.3273542600896861)\n",
            "(['Time spent on self study', 'Time spent on Online Class', 'Time spent on social media', 'Time spent on TV'], 0.2914798206278027)\n",
            "(['Time spent on fitness', 'Time spent on fitness', 'Time spent on Online Class', 'Time spent on social media', 'Time spent on self study', 'Time spent on social media'], 0.32286995515695066)\n",
            "(['Time spent on social media', 'Time spent on sleep', 'Time spent on fitness', 'Age of Subject'], 0.37668161434977576)\n",
            "(['Time spent on TV', 'Time spent on Online Class', 'Time spent on self study', 'Age of Subject', 'Time spent on Online Class', 'Time spent on Online Class', 'Time spent on social media', 'Age of Subject'], 0.3452914798206278)\n",
            "(['Time spent on self study', 'Time spent on TV', 'Time spent on TV', 'Time spent on TV', 'Time spent on fitness', 'Time spent on Online Class', 'Time spent on Online Class'], 0.28699551569506726)\n",
            "(['Time spent on TV', 'Time spent on Online Class', 'Time spent on Online Class', 'Time spent on Online Class', 'Time spent on self study', 'Time spent on self study', 'Time spent on sleep', 'Time spent on self study'], 0.29596412556053814)\n",
            "(['Time spent on fitness', 'Age of Subject', 'Time spent on social media', 'Number of meals per day'], 0.37668161434977576)\n",
            "(['Time spent on self study', 'Time spent on sleep'], 0.273542600896861)\n",
            "(['Time spent on Online Class', 'Time spent on self study'], 0.28699551569506726)\n"
          ]
        }
      ],
      "source": [
        "import pandas as pd\n",
        "import numpy as np\n",
        "from sklearn.neighbors import KNeighborsClassifier\n",
        "from sklearn.model_selection import KFold\n",
        "from sklearn.model_selection import train_test_split\n",
        "from matplotlib import pyplot as plt\n",
        "from sklearn.neighbors import KNeighborsClassifier\n",
        "import random\n",
        "\n",
        "#before predict target values through model, preprocess dataframe\n",
        "def prepare_df(df_original):\n",
        "  #create a dataframe without unnecessary features \n",
        "  df=df_original.drop(['Stress busters','Time utilized','Do you find yourself more connected with your family, close friends , relatives  ?'],axis=1)\n",
        "  df=(df.drop('Time spent on TV',axis=1).join(df['Time spent on TV'].apply(pd.to_numeric,errors='coerce')))\n",
        "  df=df.replace({'Excellent':5,'Good':4,'Average':3,'Poor':2,'Very poor':1})\n",
        "  df.dropna(inplace=True)\n",
        "  #seperate taret values\n",
        "  #X=df.iloc[:,[2,3,6,7,8,9,10,13]]\n",
        "  grid=[2,3,6,7,8,9,10,13]\n",
        " \n",
        "  # sample features without duplication\n",
        "  alist=[]        \n",
        "  count=random.randint(1,8)  \n",
        "  for i in range(count):\n",
        "    a = random.randint(0,7)       \n",
        "    while a in alist : \n",
        "      a = random.randint(0,7)\n",
        "    alist.append(grid[a]) #store features in alist\n",
        "\n",
        "  randX=df.iloc[:,alist]  #create X with extracted features \n",
        "  y=df['Rating of Online Class experience'].values\n",
        "  return df,randX,y\n",
        "\n",
        "#return n features according to its importance\n",
        "def feature_importance(X,y,n):\n",
        "  #feature importance scoring\n",
        "  from sklearn.ensemble import ExtraTreesClassifier\n",
        "  model=ExtraTreesClassifier()\n",
        "  model.fit(X,y)\n",
        "  print(model.feature_importances_[0:n])\n",
        "  feat_importances=pd.Series(model.feature_importances_,index=X.columns)\n",
        "  feat_importances.nlargest(n).plot(kind='barh')\n",
        "  plt.show()\n",
        "  return feat_importances.nlargest(n)\n",
        "\n",
        "#predict target value using KNN and KFold\n",
        "def predictScore(df,kfold_n):\n",
        "  kfold=KFold()\n",
        "  df,X,y=prepare_df(df)\n",
        "  score=[]\n",
        "  if(kfold_n<0):\n",
        "    return 0\n",
        "  for train, test in kfold.split(df):\n",
        "    temp=[]\n",
        "    X_train,X_test=X.iloc[train,:],X.iloc[test,:]\n",
        "    y_train,y_test=y[train],y[test]\n",
        "  \n",
        "    knn=KNeighborsClassifier(n_neighbors=(kfold_n+1))\n",
        "    knn.fit(X_train,y_train)\n",
        "    knn.predict(X_test)\n",
        "    temp.append(knn.score(X_test,y_test))\n",
        "  score.append(np.max(temp))\n",
        "  return list(X.columns),np.max(score)\n",
        "\n",
        "\n",
        "df=pd.read_csv('/content/COVID-19 Survey Student Responses (1).csv')\n",
        "for i in range(1,20):\n",
        "  print(predictScore(df,kfold_n=i))\n"
      ]
    }
  ]
}